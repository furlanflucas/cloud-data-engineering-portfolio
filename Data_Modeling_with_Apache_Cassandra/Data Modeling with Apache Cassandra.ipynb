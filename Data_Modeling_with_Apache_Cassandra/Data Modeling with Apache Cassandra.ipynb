{
 "cells": [
  {
   "cell_type": "markdown",
   "metadata": {},
   "source": [
    "# Part I. ETL Pipeline for Pre-Processing the Files"
   ]
  },
  {
   "cell_type": "markdown",
   "metadata": {},
   "source": [
    "#### Import Python packages "
   ]
  },
  {
   "cell_type": "markdown",
   "metadata": {},
   "source": [
    "Purpose: Import the necessary libraries for processing data and interacting with Cassandra."
   ]
  },
  {
   "cell_type": "code",
   "execution_count": 3,
   "metadata": {},
   "outputs": [],
   "source": [
    "# Import Python packages \n",
    "import pandas as pd\n",
    "import cassandra\n",
    "import re\n",
    "import os\n",
    "import glob\n",
    "import numpy as np\n",
    "import json\n",
    "import csv"
   ]
  },
  {
   "cell_type": "markdown",
   "metadata": {},
   "source": [
    "#### Creating list of filepaths to process original event csv data files"
   ]
  },
  {
   "cell_type": "markdown",
   "metadata": {},
   "source": [
    "Purpose: Locate and prepare the dataset for processing."
   ]
  },
  {
   "cell_type": "code",
   "execution_count": 4,
   "metadata": {},
   "outputs": [
    {
     "name": "stdout",
     "output_type": "stream",
     "text": [
      "/workspace/home\n"
     ]
    }
   ],
   "source": [
    "# checking your current working directory\n",
    "print(os.getcwd())\n",
    "\n",
    "# Get your current folder and subfolder event data\n",
    "filepath = os.getcwd() + '/event_data'\n",
    "\n",
    "# Create a for loop to create a list of files and collect each filepath\n",
    "for root, dirs, files in os.walk(filepath):\n",
    "    \n",
    "# join the file path and roots with the subdirectories using glob\n",
    "    file_path_list = glob.glob(os.path.join(root,'*'))\n",
    "    #print(file_path_list)"
   ]
  },
  {
   "cell_type": "markdown",
   "metadata": {},
   "source": [
    "#### Processing the files to create the data file csv that will be used for Apache Casssandra tables"
   ]
  },
  {
   "cell_type": "markdown",
   "metadata": {},
   "source": [
    "Purpose: Merge all event data into a single denormalized CSV file for Cassandra queries."
   ]
  },
  {
   "cell_type": "code",
   "execution_count": 5,
   "metadata": {},
   "outputs": [],
   "source": [
    "# initiating an empty list of rows that will be generated from each file\n",
    "full_data_rows_list = [] \n",
    "    \n",
    "# for every filepath in the file path list \n",
    "for f in file_path_list:\n",
    "\n",
    "# reading csv file \n",
    "    with open(f, 'r', encoding = 'utf8', newline='') as csvfile: \n",
    "        # creating a csv reader object \n",
    "        csvreader = csv.reader(csvfile) \n",
    "        next(csvreader)\n",
    "        \n",
    " # extracting each data row one by one and append it        \n",
    "        for line in csvreader:\n",
    "            #print(line)\n",
    "            full_data_rows_list.append(line) \n",
    "            \n",
    "# uncomment the code below if you would like to get total number of rows \n",
    "#print(len(full_data_rows_list))\n",
    "# uncomment the code below if you would like to check to see what the list of event data rows will look like\n",
    "#print(full_data_rows_list)\n",
    "\n",
    "# creating a smaller event data csv file called event_datafile_full csv that will be used to insert data into the \\\n",
    "# Apache Cassandra tables\n",
    "csv.register_dialect('myDialect', quoting=csv.QUOTE_ALL, skipinitialspace=True)\n",
    "\n",
    "with open('event_datafile_new.csv', 'w', encoding = 'utf8', newline='') as f:\n",
    "    writer = csv.writer(f, dialect='myDialect')\n",
    "    writer.writerow(['artist','firstName','gender','itemInSession','lastName','length',\\\n",
    "                'level','location','sessionId','song','userId'])\n",
    "    for row in full_data_rows_list:\n",
    "        if (row[0] == ''):\n",
    "            continue\n",
    "        writer.writerow((row[0], row[2], row[3], row[4], row[5], row[6], row[7], row[8], row[12], row[13], row[16]))\n"
   ]
  },
  {
   "cell_type": "code",
   "execution_count": 6,
   "metadata": {
    "scrolled": true
   },
   "outputs": [
    {
     "name": "stdout",
     "output_type": "stream",
     "text": [
      "6821\n"
     ]
    }
   ],
   "source": [
    "# check the number of rows in your csv file\n",
    "with open('event_datafile_new.csv', 'r', encoding = 'utf8') as f:\n",
    "    print(sum(1 for line in f))"
   ]
  },
  {
   "cell_type": "markdown",
   "metadata": {},
   "source": [
    "Creating a Cluster and Session\n",
    "Cluster: Establishes a connection to the Cassandra instance (default address: 127.0.0.1).\n",
    "\n",
    "Session: Opens a channel to execute queries on the Cassandra database."
   ]
  },
  {
   "cell_type": "code",
   "execution_count": 7,
   "metadata": {},
   "outputs": [],
   "source": [
    "# This should make a connection to a Cassandra instance your local machine \n",
    "# (127.0.0.1)\n",
    "\n",
    "from cassandra.cluster import Cluster\n",
    "cluster = Cluster()\n",
    "\n",
    "# To establish connection and begin executing queries, need a session\n",
    "session = cluster.connect()"
   ]
  },
  {
   "cell_type": "raw",
   "metadata": {},
   "source": [
    "Create Keyspace: Defines a logical grouping of tables named lf_keyspace with:\n",
    "\n",
    "SimpleStrategy: Basic replication for testing.\n",
    "replication_factor: \":1\" Stores one copy of the data.\n",
    "Verify: Lists all keyspaces to confirm lf_keyspace was created.\n"
   ]
  },
  {
   "cell_type": "code",
   "execution_count": 8,
   "metadata": {
    "scrolled": true
   },
   "outputs": [
    {
     "name": "stdout",
     "output_type": "stream",
     "text": [
      "system_auth\n",
      "system_schema\n",
      "system_distributed\n",
      "system\n",
      "system_traces\n",
      "lf_keyspace\n"
     ]
    }
   ],
   "source": [
    "# Create a Keyspace \n",
    "session.execute(\"\"\"\n",
    "    CREATE KEYSPACE IF NOT EXISTS lf_keyspace\n",
    "    WITH replication = {'class': 'SimpleStrategy', 'replication_factor': 1};\n",
    "\"\"\")\n",
    "rows = session.execute(\"SELECT keyspace_name FROM system_schema.keyspaces;\")\n",
    "for row in rows:\n",
    "    print(row.keyspace_name)"
   ]
  },
  {
   "cell_type": "markdown",
   "metadata": {},
   "source": [
    "Set Keyspace: Activates lf_keyspace for all queries."
   ]
  },
  {
   "cell_type": "code",
   "execution_count": 9,
   "metadata": {},
   "outputs": [],
   "source": [
    "# Set KEYSPACE to the keyspace specified above\n",
    "session.set_keyspace('lf_keyspace')\n"
   ]
  },
  {
   "cell_type": "markdown",
   "metadata": {},
   "source": [
    "# Part II: Apache Cassandra Data Modeling"
   ]
  },
  {
   "cell_type": "code",
   "execution_count": null,
   "metadata": {},
   "outputs": [],
   "source": []
  },
  {
   "cell_type": "markdown",
   "metadata": {},
   "source": [
    "# Query 1: Fetch Artist, Song Title, and Length\n",
    "Objective: Retrieve the artist, song title, and song's length during sessionId = 338 and itemInSession = 4."
   ]
  },
  {
   "cell_type": "code",
   "execution_count": 10,
   "metadata": {},
   "outputs": [
    {
     "name": "stdout",
     "output_type": "stream",
     "text": [
      "Table for Query 1 created!\n"
     ]
    }
   ],
   "source": [
    "# Creates table user_session_history\n",
    "session.execute(\"\"\"\n",
    "    CREATE TABLE IF NOT EXISTS user_session_history (\n",
    "        sessionId int,\n",
    "        itemInSession int,\n",
    "        artist text,\n",
    "        song text,\n",
    "        length float,\n",
    "        PRIMARY KEY ((sessionId), itemInSession)\n",
    "    );\n",
    "\"\"\")\n",
    "print(\"Table for Query 1 created!\")"
   ]
  },
  {
   "cell_type": "markdown",
   "metadata": {},
   "source": [
    "# Data Insertion:\n",
    "Insert the data into the user_session_history table from the CSV file."
   ]
  },
  {
   "cell_type": "code",
   "execution_count": 11,
   "metadata": {
    "scrolled": false
   },
   "outputs": [],
   "source": [
    "# Insert data to table user_session_history \n",
    "file = 'event_datafile_new.csv'\n",
    "\n",
    "with open(file, encoding='utf8') as f:\n",
    "    csvreader = csv.reader(f)\n",
    "    next(csvreader)  # Skip header\n",
    "    for line in csvreader:\n",
    "        query = \"\"\"\n",
    "        INSERT INTO user_session_history (sessionId, itemInSession, artist, song, length)\n",
    "        VALUES (%s, %s, %s, %s, %s)\n",
    "        \"\"\"\n",
    "        session.execute(query, (\n",
    "            int(line[8]),   # sessionId\n",
    "            int(line[3]),   # itemInSession\n",
    "            line[0],        # artist\n",
    "            line[9],        # song\n",
    "            float(line[5])  # length\n",
    "        ))"
   ]
  },
  {
   "cell_type": "markdown",
   "metadata": {},
   "source": [
    "# Query 1 execution"
   ]
  },
  {
   "cell_type": "code",
   "execution_count": 12,
   "metadata": {},
   "outputs": [
    {
     "name": "stdout",
     "output_type": "stream",
     "text": [
      "Artist: Faithless, Song: Music Matters (Mark Knight Dub), Length: 495.30731201171875\n"
     ]
    }
   ],
   "source": [
    "# Query to fetch the artist, song title, and song length for sessionId = 338 and itemInSession = 4, \n",
    "# retrieving specific content accessed during a session.\n",
    "\n",
    "rows = session.execute(\"\"\"\n",
    "    SELECT artist, song, length\n",
    "    FROM user_session_history\n",
    "    WHERE sessionId = 338 AND itemInSession = 4;\n",
    "\"\"\")\n",
    "for row in rows:\n",
    "    print(f\"Artist: {row.artist}, Song: {row.song}, Length: {row.length}\")\n"
   ]
  },
  {
   "cell_type": "markdown",
   "metadata": {},
   "source": [
    "# Query 2: Fetch Artist, Song (Sorted by ItemInSession), and User Details\n",
    "Objective: Retrieve the artist, song title (sorted by itemInSession), and the user's first and last name for a specific user (userId = 10) during a specific session (sessionId = 182)."
   ]
  },
  {
   "cell_type": "code",
   "execution_count": 13,
   "metadata": {
    "scrolled": true
   },
   "outputs": [
    {
     "name": "stdout",
     "output_type": "stream",
     "text": [
      "Table for Query 2 created!\n"
     ]
    }
   ],
   "source": [
    "# Creates Table session_songs\n",
    "session.execute(\"\"\"\n",
    "    CREATE TABLE IF NOT EXISTS session_songs (\n",
    "        userId int,\n",
    "        sessionId int,\n",
    "        itemInSession int,\n",
    "        artist text,\n",
    "        song text,\n",
    "        firstName text,\n",
    "        lastName text,\n",
    "        PRIMARY KEY ((userId, sessionId), itemInSession)\n",
    "    );\n",
    "\"\"\")\n",
    "print(\"Table for Query 2 created!\")\n"
   ]
  },
  {
   "cell_type": "markdown",
   "metadata": {},
   "source": [
    "# Data Insertion\n",
    "Insert the data into the session_songs table from the CSV file."
   ]
  },
  {
   "cell_type": "code",
   "execution_count": null,
   "metadata": {
    "scrolled": false
   },
   "outputs": [],
   "source": [
    "# Insert data to Table session_songs\n",
    "with open(file, encoding='utf8') as f:\n",
    "    csvreader = csv.reader(f)\n",
    "    next(csvreader)  # Skip header\n",
    "    for line in csvreader:\n",
    "        query = \"\"\"\n",
    "        INSERT INTO session_songs (userId, sessionId, itemInSession, artist, song, firstName, lastName)\n",
    "        VALUES (%s, %s, %s, %s, %s, %s, %s)\n",
    "        \"\"\"\n",
    "        session.execute(query, (\n",
    "            int(line[10]),  # userId\n",
    "            int(line[8]),   # sessionId\n",
    "            int(line[3]),   # itemInSession\n",
    "            line[0],        # artist\n",
    "            line[9],        # song\n",
    "            line[1],        # firstName\n",
    "            line[4]         # lastName\n",
    "        ))"
   ]
  },
  {
   "cell_type": "markdown",
   "metadata": {},
   "source": [
    "# Query 2 execution"
   ]
  },
  {
   "cell_type": "code",
   "execution_count": null,
   "metadata": {},
   "outputs": [],
   "source": [
    "# Query to fetch the artist, song title (sorted by itemInSession), and user's first and last name \n",
    "# for userId = 10 and sessionId = 182, providing a timeline of the user's session activity.\n",
    "\n",
    "rows = session.execute(\"\"\"\n",
    "    SELECT artist, song, firstName, lastName\n",
    "    FROM session_songs\n",
    "    WHERE userId = 10 AND sessionId = 182\n",
    "    ORDER BY itemInSession;\n",
    "\"\"\")\n",
    "for row in rows:\n",
    "    print(f\"Artist: {row.artist}, Song: {row.song}, User: {row.firstname} {row.lastname}\")\n"
   ]
  },
  {
   "cell_type": "markdown",
   "metadata": {},
   "source": [
    "# Query 3: Fetch Users Who Listened to a Specific Song\n",
    "Objective: Retrieve the first and last names of all users who listened to the song 'All Hands Against His Own'."
   ]
  },
  {
   "cell_type": "code",
   "execution_count": null,
   "metadata": {},
   "outputs": [],
   "source": [
    "# Create the table for Query 3\n",
    "session.execute(\"\"\"\n",
    "    CREATE TABLE IF NOT EXISTS song_listeners (\n",
    "        song text,\n",
    "        userId int,\n",
    "        firstName text,\n",
    "        lastName text,\n",
    "        PRIMARY KEY (song, userId)\n",
    "    );\n",
    "\"\"\")\n",
    "print(\"Table for Query 3 created!\")\n",
    "\n"
   ]
  },
  {
   "cell_type": "markdown",
   "metadata": {},
   "source": [
    "# Data Insertion\n",
    "Insert the data into the song_listeners table from the CSV file."
   ]
  },
  {
   "cell_type": "code",
   "execution_count": null,
   "metadata": {},
   "outputs": [],
   "source": [
    "#Insert data to the Table song_listeners\n",
    "with open(file, encoding='utf8') as f:\n",
    "    csvreader = csv.reader(f)\n",
    "    next(csvreader)  # Skip header\n",
    "    for line in csvreader:\n",
    "        query = \"\"\"\n",
    "        INSERT INTO song_listeners (song, userId, firstName, lastName)\n",
    "        VALUES (%s, %s, %s, %s)\n",
    "        \"\"\"\n",
    "        session.execute(query, (\n",
    "            line[9],        # song\n",
    "            int(line[10]),  # userId\n",
    "            line[1],        # firstName\n",
    "            line[4]         # lastName\n",
    "        ))\n"
   ]
  },
  {
   "cell_type": "markdown",
   "metadata": {},
   "source": [
    "# Query 3 execution"
   ]
  },
  {
   "cell_type": "code",
   "execution_count": null,
   "metadata": {},
   "outputs": [],
   "source": [
    "# Query 3: Get users who listened to the song 'All Hands Against His Own'\n",
    "rows = session.execute(\"\"\"\n",
    "    SELECT firstName, lastName\n",
    "    FROM song_listeners\n",
    "    WHERE song = 'All Hands Against His Own';\n",
    "\"\"\")\n",
    "for row in rows:\n",
    "    print(f\"User: {row.firstname} {row.lastname}\")\n"
   ]
  },
  {
   "cell_type": "markdown",
   "metadata": {},
   "source": [
    "# Drop the tables before closing out the sessions"
   ]
  },
  {
   "cell_type": "code",
   "execution_count": null,
   "metadata": {},
   "outputs": [],
   "source": [
    "# Drop the tables\n",
    "session.execute(\"DROP TABLE IF EXISTS session_songs;\")\n",
    "session.execute(\"DROP TABLE IF EXISTS user_session_history;\")\n",
    "session.execute(\"DROP TABLE IF EXISTS song_listeners;\")\n",
    "\n",
    "# Confirm the tables have been dropped\n",
    "print(\"Tables dropped successfully!\")"
   ]
  },
  {
   "cell_type": "markdown",
   "metadata": {},
   "source": [
    "# Close the session and cluster connection¶"
   ]
  },
  {
   "cell_type": "code",
   "execution_count": null,
   "metadata": {},
   "outputs": [],
   "source": [
    "session.shutdown()\n",
    "cluster.shutdown()"
   ]
  }
 ],
 "metadata": {
  "kernelspec": {
   "display_name": "Python 3",
   "language": "python",
   "name": "python3"
  },
  "language_info": {
   "codemirror_mode": {
    "name": "ipython",
    "version": 3
   },
   "file_extension": ".py",
   "mimetype": "text/x-python",
   "name": "python",
   "nbconvert_exporter": "python",
   "pygments_lexer": "ipython3",
   "version": "3.6.3"
  }
 },
 "nbformat": 4,
 "nbformat_minor": 2
}
